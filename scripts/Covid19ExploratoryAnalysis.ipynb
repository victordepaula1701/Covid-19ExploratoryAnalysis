!pip install newspaper3k
!pip install google_trans_new
!pip install wordcloud

#Libraries that we will need to the analysis
from bs4 import BeautifulSoup
import requests
import pandas as pd
import re
import folium
import newspaper
from newspaper import Article
from matplotlib import pyplot as plt
import matplotlib.patches as mpatches
from wordcloud import WordCloud
import numpy as np
from numpy import array
from google_trans_new import google_translator

#Activating the translator variable to translate the articles from portuguese to english
translator = google_translator() 

#I used the technique of web scraping to bring the article for contextualization of the problem
url = 'https://www.bbc.com/portuguese/brasil-56640000' #address of the article
article = Article(url) #the "article" will get the URL download the content for parsing
article.download()
article.parse() 

print("From BBC Brasil")
print()
print(translator.translate(article.title, 'en')) #Here I'm getting the article title and translating from brazilian portuguese for english
print()
print(translator.translate(article.text[609:2030], 'en')) #Here I'm getting the article content and translating from brazilian portuguese for english

url="https://www.ibge.gov.br/cidades-e-estados/sp/araraquara.html"

data = requests.get(url).content

soup = BeautifulSoup(data,'html.parser')

indice = []
for div in soup.find_all ('div', class_ = ['indicador']):
    for p in div.find_all ('p', class_ = ['ind-label']):
        title = p.text
        translateText = translator.translate(title, 'en')
        indice.append(translateText)

content = []
for div in soup.find_all ('div', class_ = ['indicador']):
    for p in div.find_all ('p', class_ = ['ind-value']):
        content.append(p.text)

df = pd.DataFrame()
df.insert(loc=0, column='Indice', value=indice)
df.insert(loc=1, column='Content', value=content)
df

url="https://www.ibge.gov.br/cidades-e-estados/sp/bauru.html?"

data = requests.get(url).content

soup = BeautifulSoup(data,'html.parser')

indice = []
for div in soup.find_all ('div', class_ = ['indicador']):
    for p in div.find_all ('p', class_ = ['ind-label']):
        title = p.text
        translateText = translator.translate(title, 'en')
        indice.append(translateText)

content = []
for div in soup.find_all ('div', class_ = ['indicador']):
    for p in div.find_all ('p', class_ = ['ind-value']):
        content.append(p.text)
        
df = pd.DataFrame()
df.insert(loc=0, column='Indice', value=indice)
df.insert(loc=1, column='Content', value=content)
df

citiesMap = folium.Map(
    location=[-21.996486337670348, -48.39041978519532],
    tiles='Stamen Terrain',
    zoom_start=9,
    width=1000,
    height=600
)

folium.Marker(location=[-21.775619806553884, -48.178686110676004],popup='Araraquara | São Paulo',tooltip='Araraquara | São Paulo').add_to(citiesMap)
folium.Marker(location=[-22.314992394647277, -49.053027334706975],popup='Bauru | São Paulo',tooltip='Bauru | São Paulo').add_to(citiesMap)

citiesMap

casesAndDeathsdf = pd.read_csv ('Cases_and_Deaths_30Abr2021.csv')
casesAndDeathsdf.head(11)

occupancyRatedf = pd.read_csv ('Hospital_occupation_rate_30Abr2021.txt', sep=";")
occupancyRatedf

columnsFilter = casesAndDeathsdf.filter(items = ['city','date','last_available_death_rate','new_confirmed','new_deaths'])
casesAndDeathsararaquaraResume = columnsFilter.loc[(casesAndDeathsdf['city'] == 'Araraquara')]
casesAndDeathsararaquaraResume.describe()

columnsFilter = casesAndDeathsdf.filter(items = ['city','date','last_available_death_rate','new_confirmed','new_deaths'])
casesAndDeathsbauruResume = columnsFilter.loc[(casesAndDeathsdf['city'] == 'Bauru')]
casesAndDeathsbauruResume.describe()

columnsFilter = occupancyRatedf.filter(items = ['datahora','ocupacao_leitos_ultimo_dia','pacientes_enf_ultimo_dia','nome_drs'])
ocuppancyRateAraraquaraResume = columnsFilter.loc[(occupancyRatedf['nome_drs'] == 'DRS 03 Araraquara')]
ocuppancyRateAraraquaraResume.describe()

columnsFilter = occupancyRatedf.filter(items = ['datahora','ocupacao_leitos_ultimo_dia','pacientes_enf_ultimo_dia','nome_drs'])
ocuppancyRateBauruResume = columnsFilter.loc[(occupancyRatedf['nome_drs'] == 'DRS 06 Bauru')]
ocuppancyRateBauruResume.describe()

columnsFilter = casesAndDeathsdf.filter(items = ['city','date','last_available_death_rate','new_confirmed','new_deaths'])
casesAndDeathCitiesdf = columnsFilter.loc[(casesAndDeathsdf['city'] == 'Araraquara') | (casesAndDeathsdf['city'] == 'Bauru')]
casesAndDeathCitiesdf.set_index('date', inplace = True)
casesAndDeathCitiesdf.head(11)

columnsFilter = occupancyRatedf.filter(items = ['datahora','ocupacao_leitos_ultimo_dia','pacientes_enf_ultimo_dia','nome_drs'])
ocuppancyRateCitiesdf = columnsFilter.loc[(occupancyRatedf['nome_drs'] == 'DRS 03 Araraquara') | (occupancyRatedf['nome_drs'] == 'DRS 06 Bauru')]
ocuppancyRateCitiesdf.set_index('datahora', inplace = True)
ocuppancyRateCitiesdf.head(11)

url = 'https://agenciabrasil.ebc.com.br/saude/noticia/2021-02/araraquara-entra-em-lockdown-para-frear-disseminacao-de-covid-19'
article = Article(url)
article.download()
article.parse() 

print("Article from Agência Brasil")
print()
print(translator.translate(article.title, 'en'))
print()
print(translator.translate(article.text[:1661], 'en'))

#The quantity of cases on the Araraquara and Bauru on the first day of lockdown
dayBeforeLockdownCases = casesAndDeathCitiesdf.loc['2021-02-21']
dayBeforeLockdownCases

#The occupancy rate of the Araraquara and Bauru on the first day of lockdown
dayBeforeLockdownOccupancy = ocuppancyRateCitiesdf.loc['2021-02-21']
dayBeforeLockdownOccupancy

#filtering the range of the dates that we will need
previousSituation = casesAndDeathCitiesdf.loc['2021-01-21':'2021-02-21']
previousSituation.reset_index(inplace = True)

#creating the range of dates that we will use as x axis
x_axis = pd.date_range(start="2021-01-21",end="2021-02-21")

#we will use both cities in y axis
araraquaraFilter = previousSituation.loc[(previousSituation['city'] == 'Araraquara')]
confirmedAraraquara = araraquaraFilter.filter(items = ['new_confirmed'])

bauruFilter = previousSituation.loc[(previousSituation['city'] == 'Bauru')]
confirmedBauru = bauruFilter.filter(items = ['new_confirmed'])

#putting everything together on the graph
plt.figure(figsize=(15,10))
plt.title('ARARAQUARA vs BAURU (Nº of New Cases)')
plt.title('01 Jan to 21 fev', loc='right', fontstyle='italic')
plt.plot(x_axis,confirmedAraraquara, color='blue')
plt.plot(x_axis,confirmedBauru, color='red')
araraquaraLabel = mpatches.Patch(color='blue', label='Araraquara')
bauruLabel = mpatches.Patch(color='red', label='Bauru')
plt.legend(handles=[araraquaraLabel,bauruLabel])
plt.show

#creating the range of dates that we will use as x axis
x_axis = pd.date_range(start="2021-01-21",end="2021-02-21")

#we will use both cities in y axis
araraquaraFilter = previousSituation.loc[(previousSituation['city'] == 'Araraquara')]
confirmedAraraquara = araraquaraFilter.filter(items = ['new_deaths'])

bauruFilter = previousSituation.loc[(previousSituation['city'] == 'Bauru')]
confirmedBauru = bauruFilter.filter(items = ['new_deaths'])

#putting everything together on the graph
plt.figure(figsize=(15,10))
plt.title('ARARAQUARA vs BAURU (Nº of New Deaths)')
plt.title('01 Jan to 21 fev', loc='right', fontstyle='italic')
plt.plot(x_axis,confirmedAraraquara, color='blue')
plt.plot(x_axis,confirmedBauru, color='red')
araraquaraLabel = mpatches.Patch(color='blue', label='Deaths in Araraquara')
bauruLabel = mpatches.Patch(color='red', label='Deaths in Bauru')
plt.legend(handles=[araraquaraLabel,bauruLabel])
plt.show

#creating the range of dates that we will use as x axis
x_axis = pd.date_range(start="2021-01-21",end="2021-02-21")

#we will use both cities in y axis
araraquaraFilter = previousSituation.loc[(previousSituation['city'] == 'Araraquara')]
confirmedAraraquara = araraquaraFilter.filter(items = ['last_available_death_rate'])

bauruFilter = previousSituation.loc[(previousSituation['city'] == 'Bauru')]
confirmedBauru = bauruFilter.filter(items = ['last_available_death_rate'])

#putting everything together on the graph
plt.figure(figsize=(15,10))
plt.title('ARARAQUARA vs BAURU (Death Rate)')
plt.title('01 Jan to 21 fev', loc='right', fontstyle='italic')
plt.plot(x_axis,confirmedAraraquara, color='blue')
plt.plot(x_axis,confirmedBauru, color='red')
araraquaraLabel = mpatches.Patch(color='blue', label='Death Rate from Araraquara')
bauruLabel = mpatches.Patch(color='red', label='Death Rate from Bauru')
plt.legend(handles=[araraquaraLabel,bauruLabel])
plt.show

#filtering the range of the dates that we will need
previousSituation = ocuppancyRateCitiesdf.loc['2021-01-21':'2021-02-21']
previousSituation.reset_index(inplace = True)

#creating the range of dates that we will use as x axis
x_axis = pd.date_range(start="2021-01-21",end="2021-02-21")

'''For the data from the field "ocupacao_leitos_ultimo_dia" or in english occupancy rate for the last day, 
the Department of Health of São Paulo used the separator comma instead of dot. But matplotlib and numpy 
can't work with commas in this particular case (I believe), so only in this case, before plotting the 
graph I'm converting all the commas to dot.'''

#we will use both cities in y axis. 
cityFilterAraraquara = previousSituation.loc[(previousSituation['nome_drs'] == 'DRS 03 Araraquara')]
occupancyAraraquara = cityFilterAraraquara.filter(items = ['ocupacao_leitos_ultimo_dia'])
occupancyAraraquaraconverted = [i.replace(',', '.') for i in occupancyAraraquara['ocupacao_leitos_ultimo_dia']]

cityFilterBauru = previousSituation.loc[(previousSituation['nome_drs'] == 'DRS 06 Bauru')]
occupancyBauru = cityFilterBauru.filter(items = ['ocupacao_leitos_ultimo_dia'])
occupancyBauruconverted = [i.replace(',', '.') for i in occupancyBauru['ocupacao_leitos_ultimo_dia']]

#putting everything together on the graph
plt.figure(figsize=(20,15))
plt.style.use('Solarize_Light2')
plt.title('ARARAQUARA vs BAURU (Occupancy Rate)')
plt.title('21 Jan to 21 fev', loc='right', fontstyle='italic')
plt.plot(x_axis,occupancyAraraquaraconverted, color='blue')
plt.plot(x_axis,occupancyBauruconverted, color='red')
araraquaraLabel = mpatches.Patch(color='blue', label='Occupancy Rate from Araraquara')
bauruLabel = mpatches.Patch(color='red', label='Occupancy Rate from Bauru')
plt.legend(handles=[araraquaraLabel,bauruLabel])
plt.show


#creating the range of dates that we will use as x axis
x_axis = pd.date_range(start="2021-01-21",end="2021-02-21")

#we will use both cities in y axis
cityFilterAraraquara = previousSituation.loc[(previousSituation['nome_drs'] == 'DRS 03 Araraquara')]
nursingBedsAraraquara = cityFilterAraraquara.filter(items = ['pacientes_enf_ultimo_dia'])

cityFilterBauru = previousSituation.loc[(previousSituation['nome_drs'] == 'DRS 06 Bauru')]
nursingBedsBauru = cityFilterBauru.filter(items = ['pacientes_enf_ultimo_dia'])

#putting everything together on the graph
plt.figure(figsize=(20,15))
plt.style.use('Solarize_Light2')
plt.title('ARARAQUARA vs BAURU (Patients in Nursing beds)')
plt.title('21 Jan to 21 fev', loc='right', fontstyle='italic')
plt.plot(x_axis,nursingBedsAraraquara, color='blue')
plt.plot(x_axis,nursingBedsBauru, color='red')
araraquaraLabel = mpatches.Patch(color='blue', label='Patients in Nursing beds from Araraquara')
bauruLabel = mpatches.Patch(color='red', label='Patients in Nursing beds from Bauru')
plt.legend(handles=[araraquaraLabel,bauruLabel])
plt.show


#filtering the range of the dates that we will need
afterSituation = casesAndDeathCitiesdf.loc['2021-03-03':'2021-04-03']
afterSituation.reset_index(inplace = True)

#creating the range of dates that we will use as x axis
x_axis = pd.date_range(start="2021-03-03",end="2021-04-03")

#we will use both cities in y axis
araraquaraFilter = afterSituation.loc[(afterSituation['city'] == 'Araraquara')]
confirmedAraraquara = araraquaraFilter.filter(items = ['new_confirmed'])

bauruFilter = afterSituation.loc[(afterSituation['city'] == 'Bauru')]
confirmedBauru = bauruFilter.filter(items = ['new_confirmed'])

#putting everything together on the graph
plt.figure(figsize=(15,10))
plt.title('ARARAQUARA vs BAURU (Nº of News Cases)')
plt.title('03 Mar to 03 Abr', loc='right', fontstyle='italic')
plt.plot(x_axis,confirmedAraraquara, color='blue')
plt.plot(x_axis,confirmedBauru, color='red')
araraquaraLabel = mpatches.Patch(color='blue', label='New Cases Araraquara')
bauruLabel = mpatches.Patch(color='red', label='New Cases Bauru')
plt.legend(handles=[araraquaraLabel,bauruLabel])
plt.show


#creating the range of dates that we will use as x axis
x_axis = pd.date_range(start="2021-03-03",end="2021-04-03")

#we will use both cities in y axis
araraquaraFilter = afterSituation.loc[(afterSituation['city'] == 'Araraquara')]
confirmedAraraquara = araraquaraFilter.filter(items = ['new_deaths'])

bauruFilter = afterSituation.loc[(afterSituation['city'] == 'Bauru')]
confirmedBauru = bauruFilter.filter(items = ['new_deaths'])

#putting everything together on the graph
plt.figure(figsize=(15,10))
plt.title('ARARAQUARA vs BAURU (Nº of Deaths)')
plt.title('03 Mar to 03 Abr', loc='right', fontstyle='italic')
plt.plot(x_axis,confirmedAraraquara, color='blue')
plt.plot(x_axis,confirmedBauru, color='red')
araraquaraLabel = mpatches.Patch(color='blue', label='Deaths in Araraquara')
bauruLabel = mpatches.Patch(color='red', label='Deaths in Bauru')
plt.legend(handles=[araraquaraLabel,bauruLabel])
plt.show

#filtering the range of the dates that we will need
afterSituation = ocuppancyRateCitiesdf.loc['2021-03-03':'2021-04-03']
afterSituation.reset_index(inplace = True)

#creating the range of dates that we will use as x axis
x_axis = pd.date_range(start="2021-03-03",end="2021-04-03")

#we will use both cities in y axis
cityFilterAraraquara = afterSituation.loc[(afterSituation['nome_drs'] == 'DRS 03 Araraquara')]
occupancyAraraquara = cityFilterAraraquara.filter(items = ['ocupacao_leitos_ultimo_dia'])
occupancyAraraquaraconverted = [i.replace(',', '.') for i in occupancyAraraquara['ocupacao_leitos_ultimo_dia']]

cityFilterBauru = afterSituation.loc[(afterSituation['nome_drs'] == 'DRS 06 Bauru')]
occupancyBauru = cityFilterBauru.filter(items = ['ocupacao_leitos_ultimo_dia'])
occupancyBauruconverted = [i.replace(',', '.') for i in occupancyBauru['ocupacao_leitos_ultimo_dia']]

#putting everything together on the graph
plt.figure(figsize=(20,15))
plt.style.use('Solarize_Light2')
plt.title('ARARAQUARA vs BAURU (Occupancy Rate)')
plt.title('03 Mar to 03 Abr', loc='right', fontstyle='italic')
plt.plot(x_axis,occupancyAraraquaraconverted, color='blue')
plt.plot(x_axis,occupancyBauruconverted, color='red')
araraquaraLabel = mpatches.Patch(color='blue', label='Occupancy Rate from Araraquara')
bauruLabel = mpatches.Patch(color='red', label='Occupancy Rate from Bauru')
plt.legend(handles=[araraquaraLabel,bauruLabel])
plt.show

#creating the range of dates that we will use as x axis
x_axis = pd.date_range(start="2021-03-03",end="2021-04-03")

#we will use both cities in y axis
cityFilterAraraquara = previousSituation.loc[(previousSituation['nome_drs'] == 'DRS 03 Araraquara')]
nursingBedsAraraquara = cityFilterAraraquara.filter(items = ['pacientes_enf_ultimo_dia'])

cityFilterBauru = previousSituation.loc[(previousSituation['nome_drs'] == 'DRS 06 Bauru')]
nursingBedsBauru = cityFilterBauru.filter(items = ['pacientes_enf_ultimo_dia'])

#putting everything together on the graph
plt.figure(figsize=(20,15))
plt.style.use('Solarize_Light2')
plt.title('ARARAQUARA vs BAURU (Patients in Nursing beds)')
plt.title('21 Jan to 21 fev', loc='right', fontstyle='italic')
plt.plot(x_axis,nursingBedsAraraquara, color='blue')
plt.plot(x_axis,nursingBedsBauru, color='red')
araraquaraLabel = mpatches.Patch(color='blue', label='Patients in Nursing beds from Araraquara')
bauruLabel = mpatches.Patch(color='red', label='Patients in Nursing beds from Bauru')
plt.legend(handles=[araraquaraLabel,bauruLabel])
plt.show

#filtering the range of the dates that we will need
beforeAndAfterSituation = casesAndDeathCitiesdf.loc['2021-01-21':'2021-04-03']
beforeAndAfterSituation.reset_index(inplace = True)

#creating the range of dates that we will use as x axis
x_axis = pd.date_range(start="2021-01-21",end="2021-04-03")

#we will use both cities in y axis
araraquaraFilter = beforeAndAfterSituation.loc[(beforeAndAfterSituation['city'] == 'Araraquara')]
confirmedAraraquara = araraquaraFilter.filter(items = ['new_confirmed'])

bauruFilter = beforeAndAfterSituation.loc[(beforeAndAfterSituation['city'] == 'Bauru')]
confirmedBauru = bauruFilter.filter(items = ['new_confirmed'])

#putting everything together on the graph
plt.figure(figsize=(15,10))
plt.title('ARARAQUARA vs BAURU (Nº of News Cases)')
plt.title('21 Jan to 21 Abr', loc='right', fontstyle='italic')
plt.plot(x_axis,confirmedAraraquara, color='blue')
plt.plot(x_axis,confirmedBauru, color='red')
araraquaraLabel = mpatches.Patch(color='blue', label='New Cases Araraquara')
bauruLabel = mpatches.Patch(color='red', label='New Cases Bauru')
plt.legend(handles=[araraquaraLabel,bauruLabel])
plt.show

#creating the range of dates that we will use as x axis
x_axis = pd.date_range(start="2021-01-21",end="2021-04-03")

#we will use both cities in y axis
araraquaraFilter = beforeAndAfterSituation.loc[(beforeAndAfterSituation['city'] == 'Araraquara')]
confirmedAraraquara = araraquaraFilter.filter(items = ['new_deaths'])

bauruFilter = beforeAndAfterSituation.loc[(beforeAndAfterSituation['city'] == 'Bauru')]
confirmedBauru = bauruFilter.filter(items = ['new_deaths'])

#putting everything together on the graph
plt.figure(figsize=(15,10))
plt.title('ARARAQUARA vs BAURU (Nº of Deaths)')
plt.title('21 Jan to 21 Abr', loc='right', fontstyle='italic')
plt.plot(x_axis,confirmedAraraquara, color='blue')
plt.plot(x_axis,confirmedBauru, color='red')
araraquaraLabel = mpatches.Patch(color='blue', label='Deaths in Araraquara')
bauruLabel = mpatches.Patch(color='red', label='Deaths in Bauru')
plt.legend(handles=[araraquaraLabel,bauruLabel])
plt.show

beforeAndAfterSituation = ocuppancyRateCitiesdf.loc['2021-01-21':'2021-04-03']
beforeAndAfterSituation.reset_index(inplace = True)

#creating the range of dates that we will use as x axis
x_axis = pd.date_range(start="2021-01-21",end="2021-04-03")

#we will use both cities in y axis
cityFilterAraraquara = beforeAndAfterSituation.loc[(beforeAndAfterSituation['nome_drs'] == 'DRS 03 Araraquara')]
occupancyAraraquara = cityFilterAraraquara.filter(items = ['ocupacao_leitos_ultimo_dia'])
occupancyAraraquaraconverted = [i.replace(',', '.') for i in occupancyAraraquara['ocupacao_leitos_ultimo_dia']]

cityFilterBauru = beforeAndAfterSituation.loc[(beforeAndAfterSituation['nome_drs'] == 'DRS 06 Bauru')]
occupancyBauru = cityFilterBauru.filter(items = ['ocupacao_leitos_ultimo_dia'])
occupancyBauruconverted = [i.replace(',', '.') for i in occupancyBauru['ocupacao_leitos_ultimo_dia']]

#putting everything together on the graph
plt.figure(figsize=(25,40))
plt.style.use('Solarize_Light2')
plt.title('ARARAQUARA vs BAURU (Occupancy Rate)')
plt.title('21 Jan to 21 Abr', loc='right', fontstyle='italic')
plt.plot(x_axis,occupancyAraraquaraconverted, color='blue')
plt.plot(x_axis,occupancyBauruconverted, color='red')
araraquaraLabel = mpatches.Patch(color='blue', label='Occupancy Rate from Araraquara')
bauruLabel = mpatches.Patch(color='red', label='Occupancy Rate from Bauru')
plt.legend(handles=[araraquaraLabel,bauruLabel])
plt.show

